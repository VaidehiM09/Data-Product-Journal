{
 "cells": [
  {
   "cell_type": "code",
   "execution_count": 10,
   "id": "c94eaac4",
   "metadata": {},
   "outputs": [
    {
     "name": "stdout",
     "output_type": "stream",
     "text": [
      "sum: 8\n",
      "I like Apple\n",
      "I like Banana\n",
      "I like Strawberry\n",
      "I like Melon\n",
      "1 is odd\n",
      "2 is even\n",
      "3 is odd\n",
      "4 is even\n",
      "5 is odd\n",
      "98.2 → Normal\n",
      "97 → Normal\n",
      "100 → Fever\n",
      "102 → Fever\n",
      "104 → High Fever\n"
     ]
    }
   ],
   "source": [
    "a = 5\n",
    "b = 3\n",
    "print(\"sum:\", a + b)\n",
    "\n",
    "# Today I ran my first Python cell and confirmed VS Code + Jupyter + Python 3.13 are working.\n",
    "\n",
    "# Practice List\n",
    "fruits = [\"Apple\", \"Banana\", \"Strawberry\", \"Melon\"]\n",
    "for fruit in fruits:\n",
    "    print(\"I like\", fruit)\n",
    "\n",
    "#Loops in condition\n",
    "numbers = [1, 2, 3, 4, 5]\n",
    "for num in numbers:\n",
    "    if num % 2 == 0:\n",
    "        print(num, \"is even\")\n",
    "    else:\n",
    "        print(num, \"is odd\")\n",
    "\n",
    "#Create a list of 5 fake patient temperatures, loop through it, and print:\n",
    "#“Normal” if temp is < 99\n",
    "#“Fever” if 99–102\n",
    "#“High Fever” if > 102\n",
    "\n",
    "temps = [98.2, 97, 100, 102, 104]\n",
    "for temp in temps:\n",
    "    if temp < 99:\n",
    "        print(temp, \"→ Normal\")\n",
    "    elif temp <= 102:\n",
    "        print(temp, \"→ Fever\")\n",
    "    else:\n",
    "        print(temp, \"→ High Fever\")"
   ]
  }
 ],
 "metadata": {
  "kernelspec": {
   "display_name": "Python 3",
   "language": "python",
   "name": "python3"
  },
  "language_info": {
   "codemirror_mode": {
    "name": "ipython",
    "version": 3
   },
   "file_extension": ".py",
   "mimetype": "text/x-python",
   "name": "python",
   "nbconvert_exporter": "python",
   "pygments_lexer": "ipython3",
   "version": "3.13.5"
  }
 },
 "nbformat": 4,
 "nbformat_minor": 5
}
